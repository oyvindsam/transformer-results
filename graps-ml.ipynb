{
 "cells": [
  {
   "cell_type": "code",
   "execution_count": 1,
   "id": "diagnostic-seating",
   "metadata": {},
   "outputs": [],
   "source": [
    "import os, sys\n",
    "import pandas as pd\n",
    "import numpy as np\n",
    "import matplotlib.pyplot as plt\n",
    "import matplotlib as mpl\n",
    "mpl.use(\"pgf\")\n",
    "\n",
    "from glob import glob\n",
    "\n",
    "from dataset import *\n",
    "\n",
    "# This is a hack to be able to import modules in parent directory\n",
    "module_path = os.path.abspath(os.path.join('.'))\n",
    "if module_path not in sys.path:\n",
    "    sys.path.append(module_path)\n",
    "    \n",
    "plt.rcParams.update({\n",
    "    \"font.family\": \"serif\",  # use serif/main font for text elements\n",
    "    \"text.usetex\": True,     # use inline math for ticks\n",
    "    \"pgf.rcfonts\": False,     # don't setup fonts from rc parameters\n",
    "})\n"
   ]
  },
  {
   "cell_type": "code",
   "execution_count": 5,
   "id": "61547e2f-fb59-4f06-9406-b9b2085fa4e3",
   "metadata": {},
   "outputs": [],
   "source": [
    "dp = pd.DataFrame({'a': [1,2,3,4], 'b': [3,4,5,4]})"
   ]
  },
  {
   "cell_type": "code",
   "execution_count": 9,
   "id": "ce99d210-7ec7-4a6a-8ff0-5cf1f84c3d4f",
   "metadata": {},
   "outputs": [
    {
     "data": {
      "text/html": [
       "<div>\n",
       "<style scoped>\n",
       "    .dataframe tbody tr th:only-of-type {\n",
       "        vertical-align: middle;\n",
       "    }\n",
       "\n",
       "    .dataframe tbody tr th {\n",
       "        vertical-align: top;\n",
       "    }\n",
       "\n",
       "    .dataframe thead th {\n",
       "        text-align: right;\n",
       "    }\n",
       "</style>\n",
       "<table border=\"1\" class=\"dataframe\">\n",
       "  <thead>\n",
       "    <tr style=\"text-align: right;\">\n",
       "      <th></th>\n",
       "      <th>a</th>\n",
       "      <th>b</th>\n",
       "    </tr>\n",
       "  </thead>\n",
       "  <tbody>\n",
       "    <tr>\n",
       "      <th>1</th>\n",
       "      <td>2</td>\n",
       "      <td>4</td>\n",
       "    </tr>\n",
       "    <tr>\n",
       "      <th>2</th>\n",
       "      <td>3</td>\n",
       "      <td>5</td>\n",
       "    </tr>\n",
       "  </tbody>\n",
       "</table>\n",
       "</div>"
      ],
      "text/plain": [
       "   a  b\n",
       "1  2  4\n",
       "2  3  5"
      ]
     },
     "execution_count": 9,
     "metadata": {},
     "output_type": "execute_result"
    }
   ],
   "source": [
    "dp.iloc[(0+1):3]"
   ]
  },
  {
   "cell_type": "code",
   "execution_count": 64,
   "id": "1c78bc26-89d2-4ae9-81d8-d1b3c4f3f903",
   "metadata": {},
   "outputs": [
    {
     "data": {
      "text/plain": [
       "1"
      ]
     },
     "execution_count": 64,
     "metadata": {},
     "output_type": "execute_result"
    }
   ],
   "source": [
    "a = 1 if True else 2\n",
    "a"
   ]
  },
  {
   "cell_type": "code",
   "execution_count": 36,
   "id": "magnetic-accessory",
   "metadata": {},
   "outputs": [],
   "source": [
    "datasets = {\n",
    "            0: deepmatcher_structured_amazon_google,\n",
    "            4: deepmatcher_structured_walmart_amazon,\n",
    "            5: deepmatcher_textual_abt_buy,\n",
    "            1: deepmatcher_structured_dblp_acm,\n",
    "            2: deepmatcher_structured_dblp_google_scholar,\n",
    "            #3: deepmatcher_structured_itunes_amazon,\n",
    "}\n",
    "\n",
    "def save_plots(models=['.'], specific=None, x='labeled_instances', y='test_f1', experiments=[0,1,3,5,6, 'ml'], include={'max':False}, \n",
    "               min_labeled=200, max_labeled=1000, file='results'):\n",
    "    \"\"\"\n",
    "    Main function for saving plots based on test results\n",
    "    params:\n",
    "    models: list of folder names you want to plot\n",
    "    specific: specify dataset by key in datasets,\n",
    "    x: value to use on x-axis\n",
    "    y: list of values to use on y-axis\n",
    "    plots: list of predefined experiments to be included\n",
    "    f1_all: True if you want a red line of maximum f1 score in graph\n",
    "    \"\"\"\n",
    "    exps = [f'exp{nr}' for nr in experiments]\n",
    "    \n",
    "    if specific is not None:\n",
    "        d = datasets[specific]()\n",
    "        plot_results(models, d, x, y, exps, include, min_labeled, file)\n",
    "       \n",
    "    else:\n",
    "        for dataset in datasets.values():\n",
    "            d = dataset()\n",
    "            plot_results(models, d, x, y, exps, include, min_labeled, max_labeled, file)\n",
    "\n",
    "def plot_results(models, dataset, x, y, experiments, include, min_labeled, max_labeled, file):\n",
    "    scores = {}\n",
    "    max_val = None\n",
    "    \n",
    "    for model in models:\n",
    "        for filename in sorted(glob(f'{model}/out/{dataset.name}/*.csv')):\n",
    "            if file in filename or model == 'ml':\n",
    "                for exp in experiments:\n",
    "                    if exp == 'exp0' and exp in filename:\n",
    "                        df = pd.read_csv(filename)\n",
    "                        scores[f'{model}_{exp}'] = df.loc[(df['labeled_instances'] >= min_labeled) & (df['labeled_instances'] <= max_labeled), :]\n",
    "                        \n",
    "                        total_values = df.loc[:, 'labeled_instances'].iloc[-1]\n",
    "                        scores[f'{model}_{exp}_Max#{total_values}'] = df.loc[:, y].iloc[-1] \n",
    "                        scores[f'{model}_{exp}_1/2#{total_values//2}'] = df.loc[:, y].iloc[-2]\n",
    "                        scores[f'{model}_{exp}_1/4#{total_values//4}'] = df.loc[:, y].iloc[-3]\n",
    "\n",
    "                    elif exp in ['exp4', 'exp6', 'exp55'] and exp in filename:\n",
    "                        df = pd.read_csv(filename)\n",
    "                        scores[f'{model}_{exp}'] = df.loc[(df['orakle_instances'] >= min_labeled) & (df['orakle_instances'] <= max_labeled), :]\n",
    "                    elif exp == 'expml' and '_data' in filename:\n",
    "                        df = pd.read_csv(filename)\n",
    "                        df = df.rename({'f1': 'test_f1', 'precision': 'test_prec', 'recall': 'test_recall'}, axis=1)\n",
    "                        df['labeled_instances'] = df.index.values\n",
    "                        scores[f'{model}_{exp}'] = df.iloc[min_labeled:max_labeled]\n",
    "                    elif exp in filename:\n",
    "                        df = pd.read_csv(filename)\n",
    "                        scores[f'{model}_{exp}'] = df.loc[(df['labeled_instances'] >= min_labeled) & (df['labeled_instances'] <= max_labeled), :]\n",
    "\n",
    "                        \n",
    "    make_plot(scores, x, y, dataset, models, experiments, max_val, include=include, file=file)\n",
    "    \n",
    "def make_plot(scores, x, y, dataset, models, experiments, max_val, include, file):\n",
    "    plt.figure(num=None, figsize=(10, 4), facecolor='w', edgecolor='k', dpi=200) # set size of plot\n",
    "    titles = []\n",
    "    \n",
    "    title_mapping = {\n",
    "            'exp0': 'Baseline',\n",
    "            'exp1': 'Partition-4',\n",
    "            'exp3': 'Hybrid',\n",
    "            'exp4': 'Hybrid-Partition-2',\n",
    "            'exp5': 'Uncertainity',\n",
    "            'exp6': 'Partition-2',\n",
    "            'exp55': 'Balanced-Uncertainity',\n",
    "            'expml': 'ML-RF'\n",
    "        }\n",
    "    def get_title(exp):\n",
    "        title = title_mapping[exp]\n",
    "        return title\n",
    "            \n",
    "    y_mapping = {\n",
    "        'test_f1': 'F1-score',\n",
    "        'iteration_time': 'Iteration time',\n",
    "        'test_recall': 'Recall',\n",
    "        'test_prec': 'Precision',\n",
    "        'train_positive_rate': 'Train Positive Rate',\n",
    "        'pool_positive_rate': 'Pool Positive Rate',\n",
    "\n",
    "    }\n",
    "    def get_y_label(y):\n",
    "        label = y_mapping[y]\n",
    "        if file == 'std':\n",
    "            label = label + ' (std)'\n",
    "        return label\n",
    "    \n",
    "    x_mapping = {\n",
    "        'labeled_instances': 'Labeled examples'\n",
    "    }\n",
    "    \n",
    "    include_model = len(models) > 1\n",
    "    \n",
    "    for key,score in scores.items():\n",
    "        exp = key.split('_')[-1]\n",
    "        model = key.split('_')[0]\n",
    "        model_str = model+'_' if include_model else ''\n",
    "        key_exp = key.split('_')[-1]\n",
    "        if key_exp in ['exp4', 'exp6', 'exp55']:\n",
    "            plt.plot(score['orakle_instances'], score[y])\n",
    "            titles.append(f'{model_str}{get_title(exp)}')\n",
    "        elif 'exp' in exp:  \n",
    "            plt.plot(score[x], score[y])\n",
    "            titles.append(f'{model_str}{get_title(exp)}')\n",
    "        else:\n",
    "            for metric,show in include.items():\n",
    "                if metric in key:\n",
    "                    if show:\n",
    "                        plt.axhline(y=score, color='r', linestyle='--') # plt.axhline(y=score, color='lightgray', linestyle='--')\n",
    "                        titles.append(f\"{model_str}Baseline-{metric} ({key.split('#')[1]})\")\n",
    "\n",
    "    #plt.xticks(scores[list(scores.keys())[-1]][x])  # set values of points on x axis\n",
    "    plt.margins(0.01) # set margins to 0.01\n",
    "    plt.legend(titles, loc=4) # add titles of plots, 4 = lower right, 2 = upper left\n",
    "    title = dataset.name.split('/')[-1]\n",
    "    plt.title(title)\n",
    "    plt.xlabel(x_mapping[x])\n",
    "    plt.ylabel(get_y_label(y))\n",
    "\n",
    "    try:\n",
    "        path = os.path.join('graps', f'{\"_\".join(models)}', f'{\"_\".join(experiments)}')\n",
    "        os.makedirs(path)\n",
    "    except OSError as e:\n",
    "        pass\n",
    "    \n",
    "    plt.savefig(f'{path}/{title}_{y}.pdf', format='pdf', bbox_inches='tight')\n",
    "    plt.close()"
   ]
  },
  {
   "cell_type": "code",
   "execution_count": 29,
   "id": "6fed7db8-f62c-4517-b5c4-5ec5d31f8e1a",
   "metadata": {},
   "outputs": [],
   "source": [
    "# test_loss, test_f1, test_prec, test_recall, labeled_instances, orakle_instances, iteration_time, train_positive_rate, pool_positive_rate\n",
    "save_plots(models=['roberta-2504', 'ml'], x='labeled_instances', y='test_f1', experiments=[0,4,6], \n",
    "           include={'Max':True, '1/2':True, '1/4':True}, \n",
    "           min_labeled=200, max_labeled=1000, \n",
    "           file='results')"
   ]
  },
  {
   "cell_type": "code",
   "execution_count": 68,
   "id": "simplified-clarity",
   "metadata": {},
   "outputs": [],
   "source": [
    "# test_loss, test_f1, test_prec, test_recall, labeled_instances, orakle_instances, iteration_time, train_positive_rate, pool_positive_rate\n",
    "save_plots(models=['roberta-2504'], x='labeled_instances', y='test_f1', experiments=[0,1,3,4,5,6], \n",
    "           include={'Max':True, '1/2':False, '1/4':False}, \n",
    "           min_labeled=200, max_labeled=1000, \n",
    "           file='results')"
   ]
  },
  {
   "cell_type": "code",
   "execution_count": 37,
   "id": "sacred-pantyhose",
   "metadata": {},
   "outputs": [],
   "source": [
    "save_plots(models=['roberta-2504'], x='labeled_instances', y='test_f1', experiments=[0,1,3,4,5,6], include={}, min_labeled=200, max_labeled=1000, file='std')"
   ]
  },
  {
   "cell_type": "code",
   "execution_count": 28,
   "id": "modified-melbourne",
   "metadata": {},
   "outputs": [],
   "source": [
    "save_plots(models=['roberta-2504'], x='labeled_instances', y='iteration_time', experiments=[0,1,3,4,5,6], min_labeled=200, max_labeled=1000, file='results')"
   ]
  },
  {
   "cell_type": "code",
   "execution_count": 25,
   "id": "integrated-turning",
   "metadata": {},
   "outputs": [],
   "source": [
    "save_plots(models=['roberta-2504'], x='labeled_instances', y='train_positive_rate', experiments=[0,4,6], specific=None, min_labeled=200, max_labeled=1000, file='results')"
   ]
  },
  {
   "cell_type": "code",
   "execution_count": 26,
   "id": "capable-lyric",
   "metadata": {},
   "outputs": [],
   "source": [
    "save_plots(models=['roberta-2504'], x='labeled_instances', y='pool_positive_rate', experiments=[0,4,6], specific=None, min_labeled=200, max_labeled=1000, file='results')"
   ]
  },
  {
   "cell_type": "code",
   "execution_count": 10,
   "id": "9d1d2444-bdde-421c-b42b-741903c4c6cc",
   "metadata": {},
   "outputs": [],
   "source": [
    "save_plots(models=['roberta-2504'], x='labeled_instances', y='test_recall', experiments=[0,4,6], specific=None, min_labeled=200, max_labeled=1000, file='results')"
   ]
  },
  {
   "cell_type": "code",
   "execution_count": 11,
   "id": "d8166a46-c69e-42e1-87c1-dcd7299a4fcb",
   "metadata": {},
   "outputs": [],
   "source": [
    "save_plots(models=['roberta-2504'], x='labeled_instances', y='test_prec', experiments=[0,4,6], specific=None, min_labeled=200, max_labeled=1000, file='results')"
   ]
  },
  {
   "cell_type": "code",
   "execution_count": null,
   "id": "a027ecf4-9efd-45d0-ad2a-25673181244d",
   "metadata": {},
   "outputs": [],
   "source": []
  },
  {
   "cell_type": "code",
   "execution_count": 13,
   "id": "naked-spider",
   "metadata": {},
   "outputs": [
    {
     "ename": "KeyError",
     "evalue": "'orakle_instances'",
     "output_type": "error",
     "traceback": [
      "\u001b[0;31m---------------------------------------------------------------------------\u001b[0m",
      "\u001b[0;31mKeyError\u001b[0m                                  Traceback (most recent call last)",
      "\u001b[0;32m~/.cache/pypoetry/virtualenvs/transformer-results-CqikBEJG-py3.9/lib/python3.9/site-packages/pandas/core/indexes/base.py\u001b[0m in \u001b[0;36mget_loc\u001b[0;34m(self, key, method, tolerance)\u001b[0m\n\u001b[1;32m   3079\u001b[0m             \u001b[0;32mtry\u001b[0m\u001b[0;34m:\u001b[0m\u001b[0;34m\u001b[0m\u001b[0;34m\u001b[0m\u001b[0m\n\u001b[0;32m-> 3080\u001b[0;31m                 \u001b[0;32mreturn\u001b[0m \u001b[0mself\u001b[0m\u001b[0;34m.\u001b[0m\u001b[0m_engine\u001b[0m\u001b[0;34m.\u001b[0m\u001b[0mget_loc\u001b[0m\u001b[0;34m(\u001b[0m\u001b[0mcasted_key\u001b[0m\u001b[0;34m)\u001b[0m\u001b[0;34m\u001b[0m\u001b[0;34m\u001b[0m\u001b[0m\n\u001b[0m\u001b[1;32m   3081\u001b[0m             \u001b[0;32mexcept\u001b[0m \u001b[0mKeyError\u001b[0m \u001b[0;32mas\u001b[0m \u001b[0merr\u001b[0m\u001b[0;34m:\u001b[0m\u001b[0;34m\u001b[0m\u001b[0;34m\u001b[0m\u001b[0m\n",
      "\u001b[0;32mpandas/_libs/index.pyx\u001b[0m in \u001b[0;36mpandas._libs.index.IndexEngine.get_loc\u001b[0;34m()\u001b[0m\n",
      "\u001b[0;32mpandas/_libs/index.pyx\u001b[0m in \u001b[0;36mpandas._libs.index.IndexEngine.get_loc\u001b[0;34m()\u001b[0m\n",
      "\u001b[0;32mpandas/_libs/hashtable_class_helper.pxi\u001b[0m in \u001b[0;36mpandas._libs.hashtable.PyObjectHashTable.get_item\u001b[0;34m()\u001b[0m\n",
      "\u001b[0;32mpandas/_libs/hashtable_class_helper.pxi\u001b[0m in \u001b[0;36mpandas._libs.hashtable.PyObjectHashTable.get_item\u001b[0;34m()\u001b[0m\n",
      "\u001b[0;31mKeyError\u001b[0m: 'orakle_instances'",
      "\nThe above exception was the direct cause of the following exception:\n",
      "\u001b[0;31mKeyError\u001b[0m                                  Traceback (most recent call last)",
      "\u001b[0;32m<ipython-input-13-ed5fab935f96>\u001b[0m in \u001b[0;36m<module>\u001b[0;34m\u001b[0m\n\u001b[1;32m      1\u001b[0m \u001b[0;31m# distilbert-0305\u001b[0m\u001b[0;34m\u001b[0m\u001b[0;34m\u001b[0m\u001b[0;34m\u001b[0m\u001b[0m\n\u001b[0;32m----> 2\u001b[0;31m \u001b[0msave_plots\u001b[0m\u001b[0;34m(\u001b[0m\u001b[0mmodels\u001b[0m\u001b[0;34m=\u001b[0m\u001b[0;34m[\u001b[0m\u001b[0;34m'distilbert-0305'\u001b[0m\u001b[0;34m]\u001b[0m\u001b[0;34m,\u001b[0m \u001b[0mx\u001b[0m\u001b[0;34m=\u001b[0m\u001b[0;34m'labeled_instances'\u001b[0m\u001b[0;34m,\u001b[0m \u001b[0my\u001b[0m\u001b[0;34m=\u001b[0m\u001b[0;34m'test_f1'\u001b[0m\u001b[0;34m,\u001b[0m \u001b[0mexperiments\u001b[0m\u001b[0;34m=\u001b[0m\u001b[0;34m[\u001b[0m\u001b[0;36m0\u001b[0m\u001b[0;34m,\u001b[0m\u001b[0;36m55\u001b[0m\u001b[0;34m,\u001b[0m\u001b[0;36m6\u001b[0m\u001b[0;34m]\u001b[0m\u001b[0;34m,\u001b[0m \u001b[0mspecific\u001b[0m\u001b[0;34m=\u001b[0m\u001b[0;32mNone\u001b[0m\u001b[0;34m,\u001b[0m \u001b[0mmin_labeled\u001b[0m\u001b[0;34m=\u001b[0m\u001b[0;36m1\u001b[0m\u001b[0;34m,\u001b[0m \u001b[0mmax_labeled\u001b[0m\u001b[0;34m=\u001b[0m\u001b[0;36m1000\u001b[0m\u001b[0;34m,\u001b[0m \u001b[0mfile\u001b[0m\u001b[0;34m=\u001b[0m\u001b[0;34m'results'\u001b[0m\u001b[0;34m)\u001b[0m\u001b[0;34m\u001b[0m\u001b[0;34m\u001b[0m\u001b[0m\n\u001b[0m",
      "\u001b[0;32m<ipython-input-12-7752c506018d>\u001b[0m in \u001b[0;36msave_plots\u001b[0;34m(models, specific, x, y, experiments, include, min_labeled, max_labeled, file)\u001b[0m\n\u001b[1;32m     28\u001b[0m         \u001b[0;32mfor\u001b[0m \u001b[0mdataset\u001b[0m \u001b[0;32min\u001b[0m \u001b[0mdatasets\u001b[0m\u001b[0;34m.\u001b[0m\u001b[0mvalues\u001b[0m\u001b[0;34m(\u001b[0m\u001b[0;34m)\u001b[0m\u001b[0;34m:\u001b[0m\u001b[0;34m\u001b[0m\u001b[0;34m\u001b[0m\u001b[0m\n\u001b[1;32m     29\u001b[0m             \u001b[0md\u001b[0m \u001b[0;34m=\u001b[0m \u001b[0mdataset\u001b[0m\u001b[0;34m(\u001b[0m\u001b[0;34m)\u001b[0m\u001b[0;34m\u001b[0m\u001b[0;34m\u001b[0m\u001b[0m\n\u001b[0;32m---> 30\u001b[0;31m             \u001b[0mplot_results\u001b[0m\u001b[0;34m(\u001b[0m\u001b[0mmodels\u001b[0m\u001b[0;34m,\u001b[0m \u001b[0md\u001b[0m\u001b[0;34m,\u001b[0m \u001b[0mx\u001b[0m\u001b[0;34m,\u001b[0m \u001b[0my\u001b[0m\u001b[0;34m,\u001b[0m \u001b[0mexps\u001b[0m\u001b[0;34m,\u001b[0m \u001b[0minclude\u001b[0m\u001b[0;34m,\u001b[0m \u001b[0mmin_labeled\u001b[0m\u001b[0;34m,\u001b[0m \u001b[0mmax_labeled\u001b[0m\u001b[0;34m,\u001b[0m \u001b[0mfile\u001b[0m\u001b[0;34m)\u001b[0m\u001b[0;34m\u001b[0m\u001b[0;34m\u001b[0m\u001b[0m\n\u001b[0m\u001b[1;32m     31\u001b[0m \u001b[0;34m\u001b[0m\u001b[0m\n\u001b[1;32m     32\u001b[0m \u001b[0;32mdef\u001b[0m \u001b[0mplot_results\u001b[0m\u001b[0;34m(\u001b[0m\u001b[0mmodels\u001b[0m\u001b[0;34m,\u001b[0m \u001b[0mdataset\u001b[0m\u001b[0;34m,\u001b[0m \u001b[0mx\u001b[0m\u001b[0;34m,\u001b[0m \u001b[0my\u001b[0m\u001b[0;34m,\u001b[0m \u001b[0mexperiments\u001b[0m\u001b[0;34m,\u001b[0m \u001b[0minclude\u001b[0m\u001b[0;34m,\u001b[0m \u001b[0mmin_labeled\u001b[0m\u001b[0;34m,\u001b[0m \u001b[0mmax_labeled\u001b[0m\u001b[0;34m,\u001b[0m \u001b[0mfile\u001b[0m\u001b[0;34m)\u001b[0m\u001b[0;34m:\u001b[0m\u001b[0;34m\u001b[0m\u001b[0;34m\u001b[0m\u001b[0m\n",
      "\u001b[0;32m<ipython-input-12-7752c506018d>\u001b[0m in \u001b[0;36mplot_results\u001b[0;34m(models, dataset, x, y, experiments, include, min_labeled, max_labeled, file)\u001b[0m\n\u001b[1;32m     49\u001b[0m                     \u001b[0;32melif\u001b[0m \u001b[0mexp\u001b[0m \u001b[0;32min\u001b[0m \u001b[0;34m[\u001b[0m\u001b[0;34m'exp4'\u001b[0m\u001b[0;34m,\u001b[0m \u001b[0;34m'exp6'\u001b[0m\u001b[0;34m,\u001b[0m \u001b[0;34m'exp55'\u001b[0m\u001b[0;34m]\u001b[0m \u001b[0;32mand\u001b[0m \u001b[0mexp\u001b[0m \u001b[0;32min\u001b[0m \u001b[0mfilename\u001b[0m\u001b[0;34m:\u001b[0m\u001b[0;34m\u001b[0m\u001b[0;34m\u001b[0m\u001b[0m\n\u001b[1;32m     50\u001b[0m                         \u001b[0mdf\u001b[0m \u001b[0;34m=\u001b[0m \u001b[0mpd\u001b[0m\u001b[0;34m.\u001b[0m\u001b[0mread_csv\u001b[0m\u001b[0;34m(\u001b[0m\u001b[0mfilename\u001b[0m\u001b[0;34m)\u001b[0m\u001b[0;34m\u001b[0m\u001b[0;34m\u001b[0m\u001b[0m\n\u001b[0;32m---> 51\u001b[0;31m                         \u001b[0mscores\u001b[0m\u001b[0;34m[\u001b[0m\u001b[0;34mf'{model}_{exp}'\u001b[0m\u001b[0;34m]\u001b[0m \u001b[0;34m=\u001b[0m \u001b[0mdf\u001b[0m\u001b[0;34m.\u001b[0m\u001b[0mloc\u001b[0m\u001b[0;34m[\u001b[0m\u001b[0;34m(\u001b[0m\u001b[0mdf\u001b[0m\u001b[0;34m[\u001b[0m\u001b[0;34m'orakle_instances'\u001b[0m\u001b[0;34m]\u001b[0m \u001b[0;34m>=\u001b[0m \u001b[0mmin_labeled\u001b[0m\u001b[0;34m)\u001b[0m \u001b[0;34m&\u001b[0m \u001b[0;34m(\u001b[0m\u001b[0mdf\u001b[0m\u001b[0;34m[\u001b[0m\u001b[0;34m'orakle_instances'\u001b[0m\u001b[0;34m]\u001b[0m \u001b[0;34m<=\u001b[0m \u001b[0mmax_labeled\u001b[0m\u001b[0;34m)\u001b[0m\u001b[0;34m,\u001b[0m \u001b[0;34m:\u001b[0m\u001b[0;34m]\u001b[0m\u001b[0;34m\u001b[0m\u001b[0;34m\u001b[0m\u001b[0m\n\u001b[0m\u001b[1;32m     52\u001b[0m                     \u001b[0;32melif\u001b[0m \u001b[0mexp\u001b[0m \u001b[0;34m==\u001b[0m \u001b[0;34m'expml'\u001b[0m \u001b[0;32mand\u001b[0m \u001b[0;34m'_data'\u001b[0m \u001b[0;32min\u001b[0m \u001b[0mfilename\u001b[0m\u001b[0;34m:\u001b[0m\u001b[0;34m\u001b[0m\u001b[0;34m\u001b[0m\u001b[0m\n\u001b[1;32m     53\u001b[0m                         \u001b[0mdf\u001b[0m \u001b[0;34m=\u001b[0m \u001b[0mpd\u001b[0m\u001b[0;34m.\u001b[0m\u001b[0mread_csv\u001b[0m\u001b[0;34m(\u001b[0m\u001b[0mfilename\u001b[0m\u001b[0;34m)\u001b[0m\u001b[0;34m\u001b[0m\u001b[0;34m\u001b[0m\u001b[0m\n",
      "\u001b[0;32m~/.cache/pypoetry/virtualenvs/transformer-results-CqikBEJG-py3.9/lib/python3.9/site-packages/pandas/core/frame.py\u001b[0m in \u001b[0;36m__getitem__\u001b[0;34m(self, key)\u001b[0m\n\u001b[1;32m   3022\u001b[0m             \u001b[0;32mif\u001b[0m \u001b[0mself\u001b[0m\u001b[0;34m.\u001b[0m\u001b[0mcolumns\u001b[0m\u001b[0;34m.\u001b[0m\u001b[0mnlevels\u001b[0m \u001b[0;34m>\u001b[0m \u001b[0;36m1\u001b[0m\u001b[0;34m:\u001b[0m\u001b[0;34m\u001b[0m\u001b[0;34m\u001b[0m\u001b[0m\n\u001b[1;32m   3023\u001b[0m                 \u001b[0;32mreturn\u001b[0m \u001b[0mself\u001b[0m\u001b[0;34m.\u001b[0m\u001b[0m_getitem_multilevel\u001b[0m\u001b[0;34m(\u001b[0m\u001b[0mkey\u001b[0m\u001b[0;34m)\u001b[0m\u001b[0;34m\u001b[0m\u001b[0;34m\u001b[0m\u001b[0m\n\u001b[0;32m-> 3024\u001b[0;31m             \u001b[0mindexer\u001b[0m \u001b[0;34m=\u001b[0m \u001b[0mself\u001b[0m\u001b[0;34m.\u001b[0m\u001b[0mcolumns\u001b[0m\u001b[0;34m.\u001b[0m\u001b[0mget_loc\u001b[0m\u001b[0;34m(\u001b[0m\u001b[0mkey\u001b[0m\u001b[0;34m)\u001b[0m\u001b[0;34m\u001b[0m\u001b[0;34m\u001b[0m\u001b[0m\n\u001b[0m\u001b[1;32m   3025\u001b[0m             \u001b[0;32mif\u001b[0m \u001b[0mis_integer\u001b[0m\u001b[0;34m(\u001b[0m\u001b[0mindexer\u001b[0m\u001b[0;34m)\u001b[0m\u001b[0;34m:\u001b[0m\u001b[0;34m\u001b[0m\u001b[0;34m\u001b[0m\u001b[0m\n\u001b[1;32m   3026\u001b[0m                 \u001b[0mindexer\u001b[0m \u001b[0;34m=\u001b[0m \u001b[0;34m[\u001b[0m\u001b[0mindexer\u001b[0m\u001b[0;34m]\u001b[0m\u001b[0;34m\u001b[0m\u001b[0;34m\u001b[0m\u001b[0m\n",
      "\u001b[0;32m~/.cache/pypoetry/virtualenvs/transformer-results-CqikBEJG-py3.9/lib/python3.9/site-packages/pandas/core/indexes/base.py\u001b[0m in \u001b[0;36mget_loc\u001b[0;34m(self, key, method, tolerance)\u001b[0m\n\u001b[1;32m   3080\u001b[0m                 \u001b[0;32mreturn\u001b[0m \u001b[0mself\u001b[0m\u001b[0;34m.\u001b[0m\u001b[0m_engine\u001b[0m\u001b[0;34m.\u001b[0m\u001b[0mget_loc\u001b[0m\u001b[0;34m(\u001b[0m\u001b[0mcasted_key\u001b[0m\u001b[0;34m)\u001b[0m\u001b[0;34m\u001b[0m\u001b[0;34m\u001b[0m\u001b[0m\n\u001b[1;32m   3081\u001b[0m             \u001b[0;32mexcept\u001b[0m \u001b[0mKeyError\u001b[0m \u001b[0;32mas\u001b[0m \u001b[0merr\u001b[0m\u001b[0;34m:\u001b[0m\u001b[0;34m\u001b[0m\u001b[0;34m\u001b[0m\u001b[0m\n\u001b[0;32m-> 3082\u001b[0;31m                 \u001b[0;32mraise\u001b[0m \u001b[0mKeyError\u001b[0m\u001b[0;34m(\u001b[0m\u001b[0mkey\u001b[0m\u001b[0;34m)\u001b[0m \u001b[0;32mfrom\u001b[0m \u001b[0merr\u001b[0m\u001b[0;34m\u001b[0m\u001b[0;34m\u001b[0m\u001b[0m\n\u001b[0m\u001b[1;32m   3083\u001b[0m \u001b[0;34m\u001b[0m\u001b[0m\n\u001b[1;32m   3084\u001b[0m         \u001b[0;32mif\u001b[0m \u001b[0mtolerance\u001b[0m \u001b[0;32mis\u001b[0m \u001b[0;32mnot\u001b[0m \u001b[0;32mNone\u001b[0m\u001b[0;34m:\u001b[0m\u001b[0;34m\u001b[0m\u001b[0;34m\u001b[0m\u001b[0m\n",
      "\u001b[0;31mKeyError\u001b[0m: 'orakle_instances'"
     ]
    }
   ],
   "source": [
    "# distilbert-0305\n",
    "save_plots(models=['distilbert-0305'], x='labeled_instances', y='test_f1', experiments=[0,55,6], specific=None, min_labeled=1, max_labeled=1000, file='results')"
   ]
  },
  {
   "cell_type": "code",
   "execution_count": 67,
   "id": "7494a53c-5b8f-46ba-9a79-458aafe27bb8",
   "metadata": {},
   "outputs": [],
   "source": [
    "save_plots(models=['roberta-2504','distilbert-0305'], x='labeled_instances', y='test_f1', experiments=[0,6], specific=None, min_labeled=200, max_labeled=1000, file='results')"
   ]
  },
  {
   "cell_type": "code",
   "execution_count": null,
   "id": "e7a84f5a-8bb9-461c-a0a2-aea6b26b0a79",
   "metadata": {},
   "outputs": [],
   "source": []
  }
 ],
 "metadata": {
  "kernelspec": {
   "display_name": "Python 3",
   "language": "python",
   "name": "python3"
  },
  "language_info": {
   "codemirror_mode": {
    "name": "ipython",
    "version": 3
   },
   "file_extension": ".py",
   "mimetype": "text/x-python",
   "name": "python",
   "nbconvert_exporter": "python",
   "pygments_lexer": "ipython3",
   "version": "3.9.4"
  }
 },
 "nbformat": 4,
 "nbformat_minor": 5
}
