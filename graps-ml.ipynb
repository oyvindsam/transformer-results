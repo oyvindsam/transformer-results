{
 "cells": [
  {
   "cell_type": "code",
   "execution_count": 1,
   "id": "diagnostic-seating",
   "metadata": {},
   "outputs": [],
   "source": [
    "import os, sys\n",
    "import pandas as pd\n",
    "import numpy as np\n",
    "import matplotlib.pyplot as plt\n",
    "import matplotlib as mpl\n",
    "mpl.use(\"pgf\")\n",
    "\n",
    "from glob import glob\n",
    "\n",
    "from dataset import *\n",
    "\n",
    "# This is a hack to be able to import modules in parent directory\n",
    "module_path = os.path.abspath(os.path.join('.'))\n",
    "if module_path not in sys.path:\n",
    "    sys.path.append(module_path)\n",
    "    \n",
    "plt.rcParams.update({\n",
    "    \"font.family\": \"serif\",  # use serif/main font for text elements\n",
    "    \"text.usetex\": True,     # use inline math for ticks\n",
    "    \"pgf.rcfonts\": False,     # don't setup fonts from rc parameters\n",
    "})\n"
   ]
  },
  {
   "cell_type": "code",
   "execution_count": 5,
   "id": "61547e2f-fb59-4f06-9406-b9b2085fa4e3",
   "metadata": {},
   "outputs": [],
   "source": [
    "dp = pd.DataFrame({'a': [1,2,3,4], 'b': [3,4,5,4]})"
   ]
  },
  {
   "cell_type": "code",
   "execution_count": 9,
   "id": "ce99d210-7ec7-4a6a-8ff0-5cf1f84c3d4f",
   "metadata": {},
   "outputs": [
    {
     "data": {
      "text/html": [
       "<div>\n",
       "<style scoped>\n",
       "    .dataframe tbody tr th:only-of-type {\n",
       "        vertical-align: middle;\n",
       "    }\n",
       "\n",
       "    .dataframe tbody tr th {\n",
       "        vertical-align: top;\n",
       "    }\n",
       "\n",
       "    .dataframe thead th {\n",
       "        text-align: right;\n",
       "    }\n",
       "</style>\n",
       "<table border=\"1\" class=\"dataframe\">\n",
       "  <thead>\n",
       "    <tr style=\"text-align: right;\">\n",
       "      <th></th>\n",
       "      <th>a</th>\n",
       "      <th>b</th>\n",
       "    </tr>\n",
       "  </thead>\n",
       "  <tbody>\n",
       "    <tr>\n",
       "      <th>1</th>\n",
       "      <td>2</td>\n",
       "      <td>4</td>\n",
       "    </tr>\n",
       "    <tr>\n",
       "      <th>2</th>\n",
       "      <td>3</td>\n",
       "      <td>5</td>\n",
       "    </tr>\n",
       "  </tbody>\n",
       "</table>\n",
       "</div>"
      ],
      "text/plain": [
       "   a  b\n",
       "1  2  4\n",
       "2  3  5"
      ]
     },
     "execution_count": 9,
     "metadata": {},
     "output_type": "execute_result"
    }
   ],
   "source": [
    "dp.iloc[(0+1):3]"
   ]
  },
  {
   "cell_type": "code",
   "execution_count": 40,
   "id": "magnetic-accessory",
   "metadata": {},
   "outputs": [],
   "source": [
    "datasets = {\n",
    "            0: deepmatcher_structured_amazon_google,\n",
    "            4: deepmatcher_structured_walmart_amazon,\n",
    "            5: deepmatcher_textual_abt_buy,\n",
    "            1: deepmatcher_structured_dblp_acm,\n",
    "            2: deepmatcher_structured_dblp_google_scholar,\n",
    "            #3: deepmatcher_structured_itunes_amazon,\n",
    "}\n",
    "\n",
    "def save_plots(models=['.'], specific=None, x='labeled_instances', y='test_f1', experiments=[0,1,3,5,6, 'ml'], include={'max':False}, min_labeled=200, max_labeled=1000, file='results'):\n",
    "    \"\"\"\n",
    "    Main function for saving plots based on test results\n",
    "    params:\n",
    "    models: list of folder names you want to plot\n",
    "    specific: specify dataset by key in datasets,\n",
    "    x: value to use on x-axis\n",
    "    y: list of values to use on y-axis\n",
    "    plots: list of predefined experiments to be included\n",
    "    f1_all: True if you want a red line of maximum f1 score in graph\n",
    "    \"\"\"\n",
    "    exps = [f'exp{nr}' for nr in experiments]\n",
    "    \n",
    "    if specific is not None:\n",
    "        d = datasets[specific]()\n",
    "        plot_results(models, d, x, y, exps, include, min_labeled, file)\n",
    "       \n",
    "    else:\n",
    "        for dataset in datasets.values():\n",
    "            d = dataset()\n",
    "            plot_results(models, d, x, y, exps, include, min_labeled, max_labeled, file)\n",
    "\n",
    "def plot_results(models, dataset, x, y, experiments, include, min_labeled, max_labeled, file):\n",
    "    scores = {}\n",
    "    max_val = None\n",
    "    \n",
    "    for model in models:\n",
    "        for filename in sorted(glob(f'{model}/out/{dataset.name}/*.csv')):\n",
    "            if file in filename or model == 'ml':\n",
    "                for exp in experiments:\n",
    "                    if exp == 'exp0' and exp in filename:\n",
    "                        df = pd.read_csv(filename)\n",
    "                        scores[f'{model}_{exp}'] = df.loc[(df['labeled_instances'] >= min_labeled) & (df['labeled_instances'] <= max_labeled), :]\n",
    "                        \n",
    "                        total_values = df.loc[:, 'labeled_instances'].iloc[-1]\n",
    "                        scores[f'{model}_{exp}_Max#{total_values}'] = df.loc[:, y].iloc[-1] \n",
    "                        scores[f'{model}_{exp}_1/2#{total_values//2}'] = df.loc[:, y].iloc[-2]\n",
    "                        scores[f'{model}_{exp}_1/4#{total_values//4}'] = df.loc[:, y].iloc[-3]\n",
    "\n",
    "                    elif exp == 'exp6' and exp in filename:\n",
    "                        df = pd.read_csv(filename)\n",
    "                        scores[f'{model}_{exp}'] = df.loc[(df['orakle_instances'] >= min_labeled) & (df['orakle_instances'] <= max_labeled), :]\n",
    "                    elif exp == 'expml' and '_data' in filename:\n",
    "                        df = pd.read_csv(filename)\n",
    "                        df = df.rename({'f1': 'test_f1', 'precision': 'test_prec', 'recall': 'test_recall'}, axis=1)\n",
    "                        df['labeled_instances'] = df.index.values\n",
    "                        scores[f'{model}_{exp}'] = df.iloc[min_labeled:max_labeled]\n",
    "                    elif exp in filename:\n",
    "                        df = pd.read_csv(filename)\n",
    "                        scores[f'{model}_{exp}'] = df.loc[(df['labeled_instances'] >= min_labeled) & (df['labeled_instances'] <= max_labeled), :]\n",
    "\n",
    "                        \n",
    "    make_plot(scores, x, y, dataset, models, experiments, max_val, include=include)\n",
    "    \n",
    "def make_plot(scores, x, y, dataset, models, experiments, max_val, include):\n",
    "    plt.figure(num=None, figsize=(10, 4), facecolor='w', edgecolor='k', dpi=200) # set size of plot\n",
    "    titles = []\n",
    "    \n",
    "    title_mapping = {\n",
    "            'exp0': 'Baseline',\n",
    "            'exp1': 'Partition-4',\n",
    "            'exp3': 'Hybrid',\n",
    "            'exp4': 'Hybrid-Partition-2',\n",
    "            'exp5': 'Uncertainity',\n",
    "            'exp6': 'Partition-2',\n",
    "            'exp55': 'Balanced-Uncertainity',\n",
    "            'expml': 'ML'\n",
    "        }\n",
    "    y_mapping = {\n",
    "        'test_f1': 'F1-score',\n",
    "        'iteration_time': 'Iteration time'\n",
    "    }\n",
    "    x_mapping = {\n",
    "        'labeled_instances': 'Labeled examples'\n",
    "    }\n",
    "    \n",
    "    for key,score in scores.items():\n",
    "        exp = key.split('_')[-1]\n",
    "        if 'exp6' in key:\n",
    "            plt.plot(score['orakle_instances'], score[y])\n",
    "            titles.append(f'{title_mapping[exp]}')\n",
    "        elif 'exp' in exp:  \n",
    "            plt.plot(score[x], score[y])\n",
    "            titles.append(f'{title_mapping[exp]}')\n",
    "        else:\n",
    "            for metric,show in include.items():\n",
    "                if metric in key:\n",
    "                    if show:\n",
    "                        plt.axhline(y=score, color='r', )\n",
    "                        titles.append(f\"Baseline-{metric} ({key.split('#')[1]})\")\n",
    "    \n",
    "    #if include_max and max_val:\n",
    "    #    plt.axhline(y=max_val, color='r')\n",
    "    #    titles.append(f'max')\n",
    "\n",
    "    #plt.xticks(scores[list(scores.keys())[-1]][x])  # set values of points on x axis\n",
    "    plt.margins(0.01) # set margins to 0.01\n",
    "    plt.legend(titles, loc=4) # add titles of plots, 4 = lower right, 2 = upper left\n",
    "    title = dataset.name.split('/')[-1]\n",
    "    plt.title(title)\n",
    "    plt.xlabel(x_mapping[x])\n",
    "    plt.ylabel(y_mapping[y])\n",
    "\n",
    "    try:\n",
    "        path = os.path.join('graps', f'{\"_\".join(models)}', f'{\"_\".join(experiments)}')\n",
    "        os.makedirs(path)\n",
    "    except OSError as e:\n",
    "        pass\n",
    "    \n",
    "    plt.savefig(f'{path}/{title}_{y}.pdf', format='pdf', bbox_inches='tight')\n",
    "    plt.close()"
   ]
  },
  {
   "cell_type": "code",
   "execution_count": 42,
   "id": "simplified-clarity",
   "metadata": {},
   "outputs": [],
   "source": [
    "# test_loss, test_f1, test_prec, test_recall, labeled_instances, orakle_instances, iteration_time, train_positive_rate, pool_positive_rate\n",
    "save_plots(models=['roberta-2504', 'ml'], x='labeled_instances', y='test_f1', experiments=[0,3,6,'ml'], \n",
    "           include={'Max':True, '1/2':False, '1/4':False}, \n",
    "           min_labeled=1, max_labeled=1000, \n",
    "           file='results')"
   ]
  },
  {
   "cell_type": "code",
   "execution_count": 4,
   "id": "sacred-pantyhose",
   "metadata": {},
   "outputs": [],
   "source": [
    "save_plots(models=['roberta-2504'], x='labeled_instances', y='test_f1', experiments=[0,1,3,4,5,6], include={}, min_labeled=200, max_labeled=1000, file='std')"
   ]
  },
  {
   "cell_type": "code",
   "execution_count": 5,
   "id": "modified-melbourne",
   "metadata": {},
   "outputs": [],
   "source": [
    "save_plots(models=['roberta-2504'], x='labeled_instances', y='iteration_time', experiments=[0,1,3,4,5,6], min_labeled=200, max_labeled=1000, file='results')"
   ]
  },
  {
   "cell_type": "code",
   "execution_count": 13,
   "id": "integrated-turning",
   "metadata": {},
   "outputs": [],
   "source": [
    "save_plots(models=['roberta-2504'], x='labeled_instances', y='train_positive_rate', experiments=[0,4,6], specific=None, min_labeled=200, max_labeled=1000, file='results')"
   ]
  },
  {
   "cell_type": "code",
   "execution_count": 15,
   "id": "capable-lyric",
   "metadata": {},
   "outputs": [],
   "source": [
    "save_plots(models=['roberta-2504'], x='labeled_instances', y='pool_positive_rate', experiments=[0,4,6], specific=None, min_labeled=1, max_labeled=1000, file='results')"
   ]
  },
  {
   "cell_type": "code",
   "execution_count": 9,
   "id": "naked-spider",
   "metadata": {},
   "outputs": [],
   "source": [
    "# distilbert-0305\n",
    "save_plots(models=['distilbert-0305'], x='labeled_instances', y='test_f1', experiments=[0,55,6], specific=None, min_labeled=1, max_labeled=1000, file='results')"
   ]
  },
  {
   "cell_type": "code",
   "execution_count": null,
   "id": "7494a53c-5b8f-46ba-9a79-458aafe27bb8",
   "metadata": {},
   "outputs": [],
   "source": []
  }
 ],
 "metadata": {
  "kernelspec": {
   "display_name": "Python 3",
   "language": "python",
   "name": "python3"
  },
  "language_info": {
   "codemirror_mode": {
    "name": "ipython",
    "version": 3
   },
   "file_extension": ".py",
   "mimetype": "text/x-python",
   "name": "python",
   "nbconvert_exporter": "python",
   "pygments_lexer": "ipython3",
   "version": "3.9.4"
  }
 },
 "nbformat": 4,
 "nbformat_minor": 5
}
