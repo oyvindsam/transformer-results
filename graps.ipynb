{
 "cells": [
  {
   "cell_type": "code",
   "execution_count": 2,
   "id": "manual-religion",
   "metadata": {},
   "outputs": [],
   "source": [
    "import os, sys\n",
    "import pandas as pd\n",
    "import numpy as np\n",
    "import matplotlib.pyplot as plt\n",
    "\n",
    "from glob import glob\n",
    "\n",
    "from dataset import *\n",
    "\n",
    "# This is a hack to be able to import modules in parent directory\n",
    "module_path = os.path.abspath(os.path.join('.'))\n",
    "if module_path not in sys.path:\n",
    "    sys.path.append(module_path)\n"
   ]
  },
  {
   "cell_type": "code",
   "execution_count": 94,
   "id": "southern-thanksgiving",
   "metadata": {},
   "outputs": [],
   "source": [
    "datasets = {\n",
    "            'amazon-google': deepmatcher_structured_amazon_google,\n",
    "            'dblp-acm': deepmatcher_structured_dblp_acm,\n",
    "            'dblp-googlescholar': deepmatcher_structured_dblp_google_scholar,\n",
    "            'itunes-amazon': deepmatcher_structured_itunes_amazon,\n",
    "            'walmart-amazon': deepmatcher_structured_walmart_amazon,\n",
    "            'abt-buy': deepmatcher_textual_abt_buy,\n",
    "}"
   ]
  },
  {
   "cell_type": "code",
   "execution_count": 242,
   "id": "caroline-iceland",
   "metadata": {},
   "outputs": [],
   "source": [
    "def plot(folder='out', experiments=[0,1,3,5,6], x='labeled_instances', y='test_f1', show_max=False, min_labeled=200):\n",
    "    exps = [f'exp{nr}' for nr in experiments]\n",
    "    data = {dataset: {} for dataset in datasets}\n",
    "    max_val = {}\n",
    "    for filename in sorted(glob(f'{folder}/out/**/*.csv', recursive=True)):\n",
    "        if 'results' in filename:\n",
    "            df = pd.read_csv(filename)\n",
    "            dataset = filename.split('/')[-2].lower()\n",
    "            for exp in exps:\n",
    "                if exp in filename and exp == 'exp0':\n",
    "                    max_val[dataset] = df.loc[:, y].iloc[-1]\n",
    "                    print(max_val[dataset])\n",
    "                    data[dataset][exp] = df.loc[df['labeled_instances'] >= min_labeled, :].iloc[:-1]\n",
    "                    \n",
    "                elif exp in filename:\n",
    "                    dataset = filename.split('/')[4].lower()\n",
    "                    df = pd.read_csv(filename)\n",
    "                    data[dataset][exp] = df.loc[df['labeled_instances'] >= min_labeled, :]\n",
    "    \n",
    "    f(data, x, y, max_val if show_max else None)"
   ]
  },
  {
   "cell_type": "code",
   "execution_count": 243,
   "id": "married-pocket",
   "metadata": {},
   "outputs": [],
   "source": [
    "def f(data, x, y, max_val):\n",
    "    for dataset in sorted(data.keys()):\n",
    "        print('Dataset:', dataset)\n",
    "        plt.figure(figsize=(15, 4), dpi=80, facecolor='w', edgecolor='k') # set size of plot\n",
    "        legends = []\n",
    "        legend_trans = {\n",
    "            'exp0': 'Random baseline',\n",
    "            'exp1': 'Transformer al',\n",
    "            'exp3': 'ML-AL transformer',\n",
    "            'exp5': 'Uncertainity',\n",
    "            'exp6': 'Kasi proper (half labeled instances)'\n",
    "        }\n",
    "        scores = data[dataset]\n",
    "        \n",
    "        for exp in sorted(scores.keys()):\n",
    "            plt.plot(scores[exp][x], scores[exp][y])\n",
    "            legends.append(legend_trans[exp])\n",
    "        \n",
    "        if max_val and dataset in max_val:\n",
    "            plt.axhline(y=max_val[dataset], color='r')\n",
    "            legends.append(f'max')\n",
    "\n",
    "        #plt.xticks(scores[list(scores.keys())[-1]][x])  # set values of points on x axis\n",
    "        plt.margins(0.01) # set margins to 0.01\n",
    "        \n",
    "        plt.legend(legends, loc=4)\n",
    "        title = dataset.split('/')[-1]\n",
    "        plt.title(title)\n",
    "        plt.xlabel('# labeled training data');\n",
    "\n",
    "    \n",
    "        plt.savefig(f'{dataset}.pdf', format='pdf', bbox_inches='tight')"
   ]
  },
  {
   "cell_type": "code",
   "execution_count": 245,
   "id": "living-ukraine",
   "metadata": {},
   "outputs": [
    {
     "name": "stdout",
     "output_type": "stream",
     "text": [
      "0.708\n",
      "0.988\n",
      "0.954\n",
      "0.865\n"
     ]
    }
   ],
   "source": [
    "plot(folder='roberta-2603', show_max=True)"
   ]
  }
 ],
 "metadata": {
  "kernelspec": {
   "display_name": "Python 3",
   "language": "python",
   "name": "python3"
  },
  "language_info": {
   "codemirror_mode": {
    "name": "ipython",
    "version": 3
   },
   "file_extension": ".py",
   "mimetype": "text/x-python",
   "name": "python",
   "nbconvert_exporter": "python",
   "pygments_lexer": "ipython3",
   "version": "3.9.2"
  }
 },
 "nbformat": 4,
 "nbformat_minor": 5
}
