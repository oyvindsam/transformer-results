{
 "cells": [
  {
   "cell_type": "code",
   "execution_count": 5,
   "id": "cfc45862",
   "metadata": {},
   "outputs": [],
   "source": [
    "import os, sys\n",
    "import numpy as np\n",
    "import pandas as pd\n",
    "\n",
    "module_path = os.path.abspath(os.path.join('.'))\n",
    "if module_path not in sys.path:\n",
    "    sys.path.append(module_path)\n",
    "    \n",
    "from dataset import *"
   ]
  },
  {
   "cell_type": "code",
   "execution_count": 18,
   "id": "4edc448a",
   "metadata": {},
   "outputs": [],
   "source": [
    "dataset_small = {\n",
    "    'deepmatcher_structured_amazon_google': deepmatcher_structured_amazon_google,\n",
    "    'deepmatcher_structured_dblp_acm': deepmatcher_structured_dblp_acm,\n",
    "    'deepmatcher_structured_dblp_google_scholar': deepmatcher_structured_dblp_google_scholar,\n",
    "    'deepmatcher_textual_abt_buy':deepmatcher_textual_abt_buy,\n",
    "    'deepmatcher_structured_walmart_amazon': deepmatcher_structured_walmart_amazon,\n",
    "    'deepmatcher_structured_itunes_amazon': deepmatcher_structured_itunes_amazon,\n",
    "}\n",
    "\n",
    "start = \"\"\"\n",
    "\\\\begin{table}[h]\n",
    "    \\\\centering\n",
    "    \\\\begin{tabular}{l|c|c|c|c} \n",
    "    \\\\hline \n",
    "        \\\\textbf{Dataset} & \\\\begin{tabular}[c]{@{}l@{}}\\\\textbf{Train}\\\\\\ {[}Pos/Tot{]}\\\\end{tabular} & \\\\begin{tabular}[c]{@{}l@{}}\\\\textbf{Test}\\\\\\ {[}Pos/Tot{]}\\\\end{tabular} & \\\\begin{tabular}[c]{@{}l@{}}\\\\textbf{Val}\\\\\\ {[}Pos/Tot{]}\\\\end{tabular} & \\\\begin{tabular}[c]{@{}l@{}}\\\\textbf{Total}\\\\\\ {[}Pos/Tot{]}\\\\end{tabular} \\\\\\ \n",
    "    \\\\hline\n",
    "\"\"\"\n",
    "end = \"\"\"\n",
    "    \\\\hline \n",
    "    \\\\end{tabular} \n",
    "    \\\\caption{Number of positive examples over total examples in the dataset-splits.} \n",
    "    \\\\label{tab:pos_rate} \n",
    "\\end{table}\"\"\""
   ]
  },
  {
   "cell_type": "code",
   "execution_count": 19,
   "id": "da6e16fd",
   "metadata": {},
   "outputs": [],
   "source": [
    "%%capture\n",
    "table = ''\n",
    "for dataset in dataset_small:\n",
    "    d = dataset_small[dataset]()\n",
    "    d.load()\n",
    "    train, test, val = d.matches_train, d.matches_test, d.matches_val\n",
    "    train_1, test_1, val_1 = train[train.matching==True], test[test.matching==True], val[val.matching==True]\n",
    "\n",
    "    table += (f'{d.name.split(\"/\")[-1]} & '\n",
    "    f'{len(train_1)}/{len(train)} & '\n",
    "    f'{len(test_1)}/{len(test)} & '\n",
    "    f'{len(val_1)}/{len(val)} & '\n",
    "    f'{len(train_1) + len(test_1) + len(val_1)}/{len(train) + len(test) + len(val)}\\\\\\ \\hline \\n')"
   ]
  },
  {
   "cell_type": "code",
   "execution_count": 20,
   "id": "6ab8387c",
   "metadata": {},
   "outputs": [
    {
     "name": "stdout",
     "output_type": "stream",
     "text": [
      "\n",
      "\\begin{table}[h]\n",
      "    \\centering\n",
      "    \\begin{tabular}{l|c|c|c|c} \n",
      "    \\hline \n",
      "        \\textbf{Dataset} & \\begin{tabular}[c]{@{}l@{}}\\textbf{Train}\\\\ {[}Pos/Tot{]}\\end{tabular} & \\begin{tabular}[c]{@{}l@{}}\\textbf{Test}\\\\ {[}Pos/Tot{]}\\end{tabular} & \\begin{tabular}[c]{@{}l@{}}\\textbf{Val}\\\\ {[}Pos/Tot{]}\\end{tabular} & \\begin{tabular}[c]{@{}l@{}}\\textbf{Total}\\\\ {[}Pos/Tot{]}\\end{tabular} \\\\ \n",
      "    \\hline\n",
      "Amazon-Google & 699/6874 & 234/2293 & 234/2293 & 1167/11460\\\\ \\hline \n",
      "DBLP-ACM & 1332/7417 & 444/2473 & 444/2473 & 2220/12363\\\\ \\hline \n",
      "DBLP-GoogleScholar & 3207/17223 & 1070/5742 & 1070/5742 & 5347/28707\\\\ \\hline \n",
      "Abt-Buy & 616/5743 & 206/1916 & 206/1916 & 1028/9575\\\\ \\hline \n",
      "Walmart-Amazon & 576/6144 & 193/2049 & 193/2049 & 962/10242\\\\ \\hline \n",
      "iTunes-Amazon & 78/321 & 27/109 & 27/109 & 132/539\\\\ \\hline \n",
      "\n",
      "    \\hline \n",
      "    \\end{tabular} \n",
      "    \\caption{Number of positive examples over total examples in the dataset-splits.} \n",
      "    \\label{tab:pos_rate} \n",
      "\\end{table}\n"
     ]
    }
   ],
   "source": [
    "print(start+table+end)"
   ]
  },
  {
   "cell_type": "code",
   "execution_count": null,
   "id": "e718b62d",
   "metadata": {},
   "outputs": [],
   "source": []
  }
 ],
 "metadata": {
  "kernelspec": {
   "display_name": "Python 3",
   "language": "python",
   "name": "python3"
  },
  "language_info": {
   "codemirror_mode": {
    "name": "ipython",
    "version": 3
   },
   "file_extension": ".py",
   "mimetype": "text/x-python",
   "name": "python",
   "nbconvert_exporter": "python",
   "pygments_lexer": "ipython3",
   "version": "3.9.2"
  }
 },
 "nbformat": 4,
 "nbformat_minor": 5
}
