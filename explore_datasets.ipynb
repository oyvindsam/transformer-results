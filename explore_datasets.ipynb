{
 "cells": [
  {
   "cell_type": "code",
   "execution_count": null,
   "id": "cfc45862",
   "metadata": {},
   "outputs": [],
   "source": [
    "import os, sys\n",
    "import numpy as np\n",
    "import pandas as pd\n",
    "\n",
    "module_path = os.path.abspath(os.path.join('.'))\n",
    "if module_path not in sys.path:\n",
    "    sys.path.append(module_path)\n",
    "    \n",
    "from dataset import *"
   ]
  },
  {
   "cell_type": "code",
   "execution_count": null,
   "id": "4edc448a",
   "metadata": {},
   "outputs": [],
   "source": [
    "dataset_small = {\n",
    "    'deepmatcher_structured_amazon_google': deepmatcher_structured_amazon_google,\n",
    "    'deepmatcher_structured_dblp_acm': deepmatcher_structured_dblp_acm,\n",
    "    'deepmatcher_structured_dblp_google_scholar': deepmatcher_structured_dblp_google_scholar,\n",
    "    'deepmatcher_textual_abt_buy':deepmatcher_textual_abt_buy,\n",
    "    'deepmatcher_structured_walmart_amazon': deepmatcher_structured_walmart_amazon,\n",
    "    'deepmatcher_structured_itunes_amazon': deepmatcher_structured_itunes_amazon,\n",
    "}"
   ]
  },
  {
   "cell_type": "code",
   "execution_count": null,
   "id": "da6e16fd",
   "metadata": {},
   "outputs": [],
   "source": [
    "%%capture\n",
    "table = ''\n",
    "for dataset in dataset_small:\n",
    "    d = dataset_small[dataset]()\n",
    "    d.load()\n",
    "    train, test, val = d.matches_train, d.matches_test, d.matches_val\n",
    "    train_1, test_1, val_1 = train[train.matching==True], test[test.matching==True], val[val.matching==True]\n",
    "\n",
    "    table += (f'{d.name.split(\"/\")[-1]} & '\n",
    "    f'{len(train_1)}/{len(train)} & '\n",
    "    f'{len(test_1)}/{len(test)} & '\n",
    "    f'{len(val_1)}/{len(val)} & '\n",
    "    f'{len(train_1) + len(test_1) + len(val_1)}/{len(train) + len(test) + len(val)}\\\\\\ \\hline \\n')"
   ]
  },
  {
   "cell_type": "code",
   "execution_count": null,
   "id": "6ab8387c",
   "metadata": {},
   "outputs": [],
   "source": [
    "print(table)"
   ]
  },
  {
   "cell_type": "code",
   "execution_count": null,
   "id": "e718b62d",
   "metadata": {},
   "outputs": [],
   "source": []
  }
 ],
 "metadata": {
  "kernelspec": {
   "display_name": "Python 3",
   "language": "python",
   "name": "python3"
  },
  "language_info": {
   "codemirror_mode": {
    "name": "ipython",
    "version": 3
   },
   "file_extension": ".py",
   "mimetype": "text/x-python",
   "name": "python",
   "nbconvert_exporter": "python",
   "pygments_lexer": "ipython3",
   "version": "3.9.2"
  }
 },
 "nbformat": 4,
 "nbformat_minor": 5
}
