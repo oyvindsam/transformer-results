{
 "cells": [
  {
   "cell_type": "code",
   "execution_count": 1,
   "id": "cfc45862",
   "metadata": {},
   "outputs": [],
   "source": [
    "import os, sys\n",
    "import numpy as np\n",
    "import pandas as pd\n",
    "\n",
    "module_path = os.path.abspath(os.path.join('.'))\n",
    "if module_path not in sys.path:\n",
    "    sys.path.append(module_path)\n",
    "    \n",
    "from dataset import *"
   ]
  },
  {
   "cell_type": "code",
   "execution_count": 45,
   "id": "4edc448a",
   "metadata": {},
   "outputs": [],
   "source": [
    "dataset_small = {\n",
    "    'deepmatcher_structured_amazon_google': deepmatcher_structured_amazon_google,\n",
    "    'deepmatcher_structured_dblp_acm': deepmatcher_structured_dblp_acm,\n",
    "    'deepmatcher_structured_dblp_google_scholar': deepmatcher_structured_dblp_google_scholar,\n",
    "    'deepmatcher_textual_abt_buy':deepmatcher_textual_abt_buy,\n",
    "    'deepmatcher_structured_walmart_amazon': deepmatcher_structured_walmart_amazon,\n",
    "    'deepmatcher_structured_itunes_amazon': deepmatcher_structured_itunes_amazon,\n",
    "}\n",
    "\n",
    "dataset_all = {\n",
    "    'deepmatcher_structured_amazon_google': deepmatcher_structured_amazon_google,\n",
    "    'deepmatcher_structured_beer':deepmatcher_structured_beer,\n",
    "    'deepmatcher_structured_dblp_acm': deepmatcher_structured_dblp_acm,\n",
    "    'deepmatcher_structured_dblp_google_scholar': deepmatcher_structured_dblp_google_scholar,\n",
    "    'deepmatcher_structured_fodors_zagats': deepmatcher_structured_fodors_zagats,\n",
    "    'deepmatcher_structured_walmart_amazon': deepmatcher_structured_walmart_amazon,\n",
    "    'deepmatcher_structured_itunes_amazon': deepmatcher_structured_itunes_amazon,\n",
    "    'deepmatcher_dirty_dblp_acm': deepmatcher_dirty_dblp_acm,\n",
    "    'deepmatcher_dirty_dblp_google_scholar': deepmatcher_dirty_dblp_google_scholar, \n",
    "    'deepmatcher_dirty_walmart_amazon':deepmatcher_dirty_walmart_amazon,\n",
    "    'deepmatcher_dirty_itunes_amazon':deepmatcher_dirty_itunes_amazon,\n",
    "    'deepmatcher_textual_abt_buy':deepmatcher_textual_abt_buy,\n",
    "    'deepmatcher_textual_company':deepmatcher_textual_company, \n",
    "    #'comperbench_abt_buy':comperbench_abt_buy,\n",
    "    #'comperbench_wdc_xlarge_shoes':comperbench_wdc_xlarge_shoes,\n",
    "}\n",
    "\n",
    "start = \"\"\"\n",
    "\\\\begin{table}[h]\n",
    "    \\\\centering\n",
    "    \\\\begin{tabular}{l|c|c|c|c|c} \n",
    "    \\\\hline \n",
    "\\\\multirow{2}{*}{Dataset} & Matches     & Train         & Test          & Validation    & Total         \\\\\\\\\n",
    "                         & {[}\\\\%Pos{]} & {[}Pos/Tot{]} & {[}Pos/Tot{]} & {[}Pos/Tot{]} & {[}Pos/Tot{]} \\\\\\\\\n",
    "    \\\\hline\n",
    "\"\"\"\n",
    "end = \"\"\"\n",
    "    \\\\hline \n",
    "    \\\\end{tabular} \n",
    "    \\\\caption{Number of positive examples over total examples in the dataset-splits.} \n",
    "    \\\\label{tab:pos_rate} \n",
    "\\end{table}\"\"\"\n",
    "\n",
    "def get_sign(name):\n",
    "    name=name.lower()\n",
    "    if \"structured\" in name:\n",
    "        print(\"True\")\n",
    "        return \"\\\\#S\"\n",
    "    if \"dirty\" in name:\n",
    "        return \"\\\\#D\"\n",
    "    if \"textual\" in name:\n",
    "        return \"\\\\#T\""
   ]
  },
  {
   "cell_type": "code",
   "execution_count": 48,
   "id": "da6e16fd",
   "metadata": {},
   "outputs": [],
   "source": [
    "%%capture\n",
    "table = ''\n",
    "for dataset in dataset_all:\n",
    "    d = dataset_all[dataset]()\n",
    "    d.load()\n",
    "    train, test, val = d.matches_train, d.matches_test, d.matches_val\n",
    "    train_1, test_1, val_1 = train[train.matching==True], test[test.matching==True], val[val.matching==True]\n",
    "    table += (f'{d.name.split(\"/\")[-1]}{get_sign(d.name)} & '\n",
    "    f'{round(100*(len(train_1)/len(train)), 2)} & {len(train_1)}/{len(train)} & '\n",
    "    f'{len(test_1)}/{len(test)} & '\n",
    "    f'{len(val_1)}/{len(val)} & '\n",
    "    f'{len(train_1) + len(test_1) + len(val_1)}/{len(train) + len(test) + len(val)} \\\\\\ \\n')\n",
    "    "
   ]
  },
  {
   "cell_type": "code",
   "execution_count": 49,
   "id": "6ab8387c",
   "metadata": {},
   "outputs": [
    {
     "name": "stdout",
     "output_type": "stream",
     "text": [
      "\n",
      "\\begin{table}[h]\n",
      "    \\centering\n",
      "    \\begin{tabular}{l|c|c|c|c|c} \n",
      "    \\hline \n",
      "\\multirow{2}{*}{Dataset} & Matches     & Train         & Test          & Validation    & Total         \\\\\n",
      "                         & {[}\\%Pos{]} & {[}Pos/Tot{]} & {[}Pos/Tot{]} & {[}Pos/Tot{]} & {[}Pos/Tot{]} \\\\\n",
      "    \\hline\n",
      "Amazon-Google\\#S & 10.17 & 699/6874 & 234/2293 & 234/2293 & 1167/11460 \\\\ \n",
      "Beer\\#S & 14.93 & 40/268 & 14/91 & 14/91 & 68/450 \\\\ \n",
      "DBLP-ACM\\#S & 17.96 & 1332/7417 & 444/2473 & 444/2473 & 2220/12363 \\\\ \n",
      "DBLP-GoogleScholar\\#S & 18.62 & 3207/17223 & 1070/5742 & 1070/5742 & 5347/28707 \\\\ \n",
      "Fodors-Zagats\\#S & 11.64 & 66/567 & 22/189 & 22/190 & 110/946 \\\\ \n",
      "Walmart-Amazon\\#S & 9.38 & 576/6144 & 193/2049 & 193/2049 & 962/10242 \\\\ \n",
      "iTunes-Amazon\\#S & 24.3 & 78/321 & 27/109 & 27/109 & 132/539 \\\\ \n",
      "DBLP-ACM\\#D & 17.96 & 1332/7417 & 444/2473 & 444/2473 & 2220/12363 \\\\ \n",
      "DBLP-GoogleScholar\\#D & 18.62 & 3207/17223 & 1070/5742 & 1070/5742 & 5347/28707 \\\\ \n",
      "Walmart-Amazon\\#D & 9.38 & 576/6144 & 193/2049 & 193/2049 & 962/10242 \\\\ \n",
      "iTunes-Amazon\\#D & 24.3 & 78/321 & 27/109 & 27/109 & 132/539 \\\\ \n",
      "Abt-Buy\\#T & 10.73 & 616/5743 & 206/1916 & 206/1916 & 1028/9575 \\\\ \n",
      "Company\\#T & 24.94 & 16859/67596 & 5640/22503 & 5701/22533 & 28200/112632 \\\\ \n",
      "\n",
      "    \\hline \n",
      "    \\end{tabular} \n",
      "    \\caption{Number of positive examples over total examples in the dataset-splits.} \n",
      "    \\label{tab:pos_rate} \n",
      "\\end{table}\n"
     ]
    }
   ],
   "source": [
    "print(start+table+end)"
   ]
  },
  {
   "cell_type": "code",
   "execution_count": 40,
   "id": "0e9a809e-004a-4af5-b7fb-a9648d5ab19d",
   "metadata": {},
   "outputs": [
    {
     "name": "stdout",
     "output_type": "stream",
     "text": [
      "True\n",
      "#S\n",
      "True\n",
      "#S\n",
      "True\n",
      "#S\n",
      "#T\n",
      "True\n",
      "#S\n",
      "True\n",
      "#S\n"
     ]
    }
   ],
   "source": [
    "def get_sign(name):\n",
    "    name=name.lower()\n",
    "    if \"structured\" in name:\n",
    "        print(\"True\")\n",
    "        return \"#S\"\n",
    "    if \"dirty\" in name:\n",
    "        return \"#D\"\n",
    "    if \"textual\" in name:\n",
    "        return \"#T\"\n",
    "    \n",
    "for dataset in dataset_small:\n",
    "    d = dataset_small[dataset]()\n",
    "    d.load()\n",
    "    print(get_sign(d.name))"
   ]
  },
  {
   "cell_type": "code",
   "execution_count": null,
   "id": "e718b62d",
   "metadata": {},
   "outputs": [],
   "source": []
  }
 ],
 "metadata": {
  "kernelspec": {
   "display_name": "Python 3",
   "language": "python",
   "name": "python3"
  },
  "language_info": {
   "codemirror_mode": {
    "name": "ipython",
    "version": 3
   },
   "file_extension": ".py",
   "mimetype": "text/x-python",
   "name": "python",
   "nbconvert_exporter": "python",
   "pygments_lexer": "ipython3",
   "version": "3.9.2"
  }
 },
 "nbformat": 4,
 "nbformat_minor": 5
}
